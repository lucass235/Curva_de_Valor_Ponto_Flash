{
 "cells": [
  {
   "cell_type": "code",
   "execution_count": 86,
   "metadata": {},
   "outputs": [],
   "source": [
    "import pandas as pd\n",
    "import matplotlib.pyplot as plt"
   ]
  },
  {
   "cell_type": "code",
   "execution_count": 87,
   "metadata": {},
   "outputs": [],
   "source": [
    "df = pd.read_csv('./base para curva de valor ideia livro de pontos.CSV', sep=';')"
   ]
  },
  {
   "cell_type": "code",
   "execution_count": 88,
   "metadata": {},
   "outputs": [
    {
     "data": {
      "text/html": [
       "<div>\n",
       "<style scoped>\n",
       "    .dataframe tbody tr th:only-of-type {\n",
       "        vertical-align: middle;\n",
       "    }\n",
       "\n",
       "    .dataframe tbody tr th {\n",
       "        vertical-align: top;\n",
       "    }\n",
       "\n",
       "    .dataframe thead th {\n",
       "        text-align: right;\n",
       "    }\n",
       "</style>\n",
       "<table border=\"1\" class=\"dataframe\">\n",
       "  <thead>\n",
       "    <tr style=\"text-align: right;\">\n",
       "      <th></th>\n",
       "      <th>APPS</th>\n",
       "      <th>PREÇO</th>\n",
       "      <th>CONFUSÕES</th>\n",
       "      <th>ESTRESSE</th>\n",
       "      <th>PROBLEMAS JURÍDICOS</th>\n",
       "      <th>NÚMERO DE CA</th>\n",
       "      <th>AGILIDADE</th>\n",
       "      <th>FOCO PARA POUCOS FUNCIONÁRIOS</th>\n",
       "    </tr>\n",
       "  </thead>\n",
       "  <tbody>\n",
       "    <tr>\n",
       "      <th>0</th>\n",
       "      <td>EXCEL</td>\n",
       "      <td>10</td>\n",
       "      <td>10</td>\n",
       "      <td>10</td>\n",
       "      <td>10</td>\n",
       "      <td>2</td>\n",
       "      <td>0</td>\n",
       "      <td>0</td>\n",
       "    </tr>\n",
       "    <tr>\n",
       "      <th>1</th>\n",
       "      <td>LIVRO COMUM</td>\n",
       "      <td>4</td>\n",
       "      <td>6</td>\n",
       "      <td>6</td>\n",
       "      <td>8</td>\n",
       "      <td>2</td>\n",
       "      <td>2</td>\n",
       "      <td>0</td>\n",
       "    </tr>\n",
       "    <tr>\n",
       "      <th>2</th>\n",
       "      <td>PONTO MAIS</td>\n",
       "      <td>6</td>\n",
       "      <td>2</td>\n",
       "      <td>4</td>\n",
       "      <td>2</td>\n",
       "      <td>4</td>\n",
       "      <td>6</td>\n",
       "      <td>0</td>\n",
       "    </tr>\n",
       "    <tr>\n",
       "      <th>3</th>\n",
       "      <td>CLICKUP</td>\n",
       "      <td>8</td>\n",
       "      <td>4</td>\n",
       "      <td>8</td>\n",
       "      <td>6</td>\n",
       "      <td>6</td>\n",
       "      <td>4</td>\n",
       "      <td>5</td>\n",
       "    </tr>\n",
       "    <tr>\n",
       "      <th>4</th>\n",
       "      <td>NOSSO APP</td>\n",
       "      <td>0</td>\n",
       "      <td>0</td>\n",
       "      <td>2</td>\n",
       "      <td>2</td>\n",
       "      <td>7</td>\n",
       "      <td>7</td>\n",
       "      <td>10</td>\n",
       "    </tr>\n",
       "  </tbody>\n",
       "</table>\n",
       "</div>"
      ],
      "text/plain": [
       "          APPS  PREÇO  CONFUSÕES  ESTRESSE  PROBLEMAS JURÍDICOS  NÚMERO DE CA  \\\n",
       "0        EXCEL     10         10        10                   10             2   \n",
       "1  LIVRO COMUM      4          6         6                    8             2   \n",
       "2   PONTO MAIS      6          2         4                    2             4   \n",
       "3      CLICKUP      8          4         8                    6             6   \n",
       "4    NOSSO APP      0          0         2                    2             7   \n",
       "\n",
       "   AGILIDADE  FOCO PARA POUCOS FUNCIONÁRIOS  \n",
       "0          0                              0  \n",
       "1          2                              0  \n",
       "2          6                              0  \n",
       "3          4                              5  \n",
       "4          7                             10  "
      ]
     },
     "execution_count": 88,
     "metadata": {},
     "output_type": "execute_result"
    }
   ],
   "source": [
    "df"
   ]
  },
  {
   "cell_type": "code",
   "execution_count": 89,
   "metadata": {},
   "outputs": [],
   "source": [
    "df_direto = df[(df['APPS'] == 'PONTO MAIS' ) | (df['APPS'] == 'CLICKUP')]\n",
    "df_indireto = df[(df['APPS'] == 'LIVRO COMUM' ) | (df['APPS'] == 'EXCEL')]"
   ]
  },
  {
   "cell_type": "code",
   "execution_count": 90,
   "metadata": {},
   "outputs": [
    {
     "data": {
      "text/html": [
       "<div>\n",
       "<style scoped>\n",
       "    .dataframe tbody tr th:only-of-type {\n",
       "        vertical-align: middle;\n",
       "    }\n",
       "\n",
       "    .dataframe tbody tr th {\n",
       "        vertical-align: top;\n",
       "    }\n",
       "\n",
       "    .dataframe thead th {\n",
       "        text-align: right;\n",
       "    }\n",
       "</style>\n",
       "<table border=\"1\" class=\"dataframe\">\n",
       "  <thead>\n",
       "    <tr style=\"text-align: right;\">\n",
       "      <th></th>\n",
       "      <th>APPS</th>\n",
       "      <th>PREÇO</th>\n",
       "      <th>CONFUSÕES</th>\n",
       "      <th>ESTRESSE</th>\n",
       "      <th>PROBLEMAS JURÍDICOS</th>\n",
       "      <th>NÚMERO DE CA</th>\n",
       "      <th>AGILIDADE</th>\n",
       "      <th>FOCO PARA POUCOS FUNCIONÁRIOS</th>\n",
       "    </tr>\n",
       "  </thead>\n",
       "  <tbody>\n",
       "    <tr>\n",
       "      <th>2</th>\n",
       "      <td>PONTO MAIS</td>\n",
       "      <td>6</td>\n",
       "      <td>2</td>\n",
       "      <td>4</td>\n",
       "      <td>2</td>\n",
       "      <td>4</td>\n",
       "      <td>6</td>\n",
       "      <td>0</td>\n",
       "    </tr>\n",
       "    <tr>\n",
       "      <th>3</th>\n",
       "      <td>CLICKUP</td>\n",
       "      <td>8</td>\n",
       "      <td>4</td>\n",
       "      <td>8</td>\n",
       "      <td>6</td>\n",
       "      <td>6</td>\n",
       "      <td>4</td>\n",
       "      <td>5</td>\n",
       "    </tr>\n",
       "  </tbody>\n",
       "</table>\n",
       "</div>"
      ],
      "text/plain": [
       "         APPS  PREÇO  CONFUSÕES  ESTRESSE  PROBLEMAS JURÍDICOS  NÚMERO DE CA  \\\n",
       "2  PONTO MAIS      6          2         4                    2             4   \n",
       "3     CLICKUP      8          4         8                    6             6   \n",
       "\n",
       "   AGILIDADE  FOCO PARA POUCOS FUNCIONÁRIOS  \n",
       "2          6                              0  \n",
       "3          4                              5  "
      ]
     },
     "execution_count": 90,
     "metadata": {},
     "output_type": "execute_result"
    }
   ],
   "source": [
    "df_direto"
   ]
  },
  {
   "cell_type": "code",
   "execution_count": 91,
   "metadata": {},
   "outputs": [],
   "source": [
    "df_media_direto = pd.DataFrame(columns=['APPS', 'PREÇO','CONFUSÕES', 'ESTRESSE', 'PROBLEMAS JURÍDICOS', 'NÚMERO DE CA', 'AGILIDADE','FOCO PARA POUCOS FUNCIONÁRIOS'])"
   ]
  },
  {
   "cell_type": "code",
   "execution_count": 92,
   "metadata": {},
   "outputs": [],
   "source": [
    "df_media_direto.loc[0, \"PREÇO\"] = df_direto[\"PREÇO\"].mean()\n",
    "df_media_direto.loc[0, \"CONFUSÕES\"] = df_direto[\"CONFUSÕES\"].mean()\n",
    "df_media_direto.loc[0, \"ESTRESSE\"] = df_direto['ESTRESSE'].mean()\n",
    "df_media_direto.loc[0, \"PROBLEMAS JURÍDICOS\"] = df_direto['PROBLEMAS JURÍDICOS'].mean()\n",
    "df_media_direto.loc[0, \"NÚMERO DE CA\"] = df_direto['NÚMERO DE CA'].mean()\n",
    "df_media_direto.loc[0, \"AGILIDADE\"] = df_direto['AGILIDADE'].mean()\n",
    "df_media_direto.loc[0, \"FOCO PARA POUCOS FUNCIONÁRIOS\"] = df_direto['FOCO PARA POUCOS FUNCIONÁRIOS'].mean()\n",
    "df_media_direto.loc[0, df_media_direto.columns[0]] = \"Direto\""
   ]
  },
  {
   "cell_type": "code",
   "execution_count": 93,
   "metadata": {},
   "outputs": [
    {
     "data": {
      "text/html": [
       "<div>\n",
       "<style scoped>\n",
       "    .dataframe tbody tr th:only-of-type {\n",
       "        vertical-align: middle;\n",
       "    }\n",
       "\n",
       "    .dataframe tbody tr th {\n",
       "        vertical-align: top;\n",
       "    }\n",
       "\n",
       "    .dataframe thead th {\n",
       "        text-align: right;\n",
       "    }\n",
       "</style>\n",
       "<table border=\"1\" class=\"dataframe\">\n",
       "  <thead>\n",
       "    <tr style=\"text-align: right;\">\n",
       "      <th></th>\n",
       "      <th>APPS</th>\n",
       "      <th>PREÇO</th>\n",
       "      <th>CONFUSÕES</th>\n",
       "      <th>ESTRESSE</th>\n",
       "      <th>PROBLEMAS JURÍDICOS</th>\n",
       "      <th>NÚMERO DE CA</th>\n",
       "      <th>AGILIDADE</th>\n",
       "      <th>FOCO PARA POUCOS FUNCIONÁRIOS</th>\n",
       "    </tr>\n",
       "  </thead>\n",
       "  <tbody>\n",
       "    <tr>\n",
       "      <th>0</th>\n",
       "      <td>Direto</td>\n",
       "      <td>7.0</td>\n",
       "      <td>3.0</td>\n",
       "      <td>6.0</td>\n",
       "      <td>4.0</td>\n",
       "      <td>5.0</td>\n",
       "      <td>5.0</td>\n",
       "      <td>2.5</td>\n",
       "    </tr>\n",
       "  </tbody>\n",
       "</table>\n",
       "</div>"
      ],
      "text/plain": [
       "     APPS PREÇO CONFUSÕES ESTRESSE PROBLEMAS JURÍDICOS NÚMERO DE CA AGILIDADE  \\\n",
       "0  Direto   7.0       3.0      6.0                 4.0          5.0       5.0   \n",
       "\n",
       "  FOCO PARA POUCOS FUNCIONÁRIOS  \n",
       "0                           2.5  "
      ]
     },
     "execution_count": 93,
     "metadata": {},
     "output_type": "execute_result"
    }
   ],
   "source": [
    "df_media_direto"
   ]
  },
  {
   "cell_type": "code",
   "execution_count": 94,
   "metadata": {},
   "outputs": [
    {
     "data": {
      "text/html": [
       "<div>\n",
       "<style scoped>\n",
       "    .dataframe tbody tr th:only-of-type {\n",
       "        vertical-align: middle;\n",
       "    }\n",
       "\n",
       "    .dataframe tbody tr th {\n",
       "        vertical-align: top;\n",
       "    }\n",
       "\n",
       "    .dataframe thead th {\n",
       "        text-align: right;\n",
       "    }\n",
       "</style>\n",
       "<table border=\"1\" class=\"dataframe\">\n",
       "  <thead>\n",
       "    <tr style=\"text-align: right;\">\n",
       "      <th></th>\n",
       "      <th>APPS</th>\n",
       "      <th>PREÇO</th>\n",
       "      <th>CONFUSÕES</th>\n",
       "      <th>ESTRESSE</th>\n",
       "      <th>PROBLEMAS JURÍDICOS</th>\n",
       "      <th>NÚMERO DE CA</th>\n",
       "      <th>AGILIDADE</th>\n",
       "      <th>FOCO PARA POUCOS FUNCIONÁRIOS</th>\n",
       "    </tr>\n",
       "  </thead>\n",
       "  <tbody>\n",
       "    <tr>\n",
       "      <th>0</th>\n",
       "      <td>EXCEL</td>\n",
       "      <td>10</td>\n",
       "      <td>10</td>\n",
       "      <td>10</td>\n",
       "      <td>10</td>\n",
       "      <td>2</td>\n",
       "      <td>0</td>\n",
       "      <td>0</td>\n",
       "    </tr>\n",
       "    <tr>\n",
       "      <th>1</th>\n",
       "      <td>LIVRO COMUM</td>\n",
       "      <td>4</td>\n",
       "      <td>6</td>\n",
       "      <td>6</td>\n",
       "      <td>8</td>\n",
       "      <td>2</td>\n",
       "      <td>2</td>\n",
       "      <td>0</td>\n",
       "    </tr>\n",
       "  </tbody>\n",
       "</table>\n",
       "</div>"
      ],
      "text/plain": [
       "          APPS  PREÇO  CONFUSÕES  ESTRESSE  PROBLEMAS JURÍDICOS  NÚMERO DE CA  \\\n",
       "0        EXCEL     10         10        10                   10             2   \n",
       "1  LIVRO COMUM      4          6         6                    8             2   \n",
       "\n",
       "   AGILIDADE  FOCO PARA POUCOS FUNCIONÁRIOS  \n",
       "0          0                              0  \n",
       "1          2                              0  "
      ]
     },
     "execution_count": 94,
     "metadata": {},
     "output_type": "execute_result"
    }
   ],
   "source": [
    "df_indireto"
   ]
  },
  {
   "cell_type": "code",
   "execution_count": 95,
   "metadata": {},
   "outputs": [],
   "source": [
    "df_media_indireto = pd.DataFrame(columns=['APPS', 'PREÇO','CONFUSÕES', 'ESTRESSE', 'PROBLEMAS JURÍDICOS', 'NÚMERO DE CA', 'AGILIDADE','FOCO PARA POUCOS FUNCIONÁRIOS'])"
   ]
  },
  {
   "cell_type": "code",
   "execution_count": 96,
   "metadata": {},
   "outputs": [],
   "source": [
    "df_media_indireto.loc[0, \"PREÇO\"] = df_indireto[\"PREÇO\"].mean()\n",
    "df_media_indireto.loc[0, \"CONFUSÕES\"] = df_indireto[\"CONFUSÕES\"].mean()\n",
    "df_media_indireto.loc[0, \"ESTRESSE\"] = df_indireto['ESTRESSE'].mean()\n",
    "df_media_indireto.loc[0, \"PROBLEMAS JURÍDICOS\"] = df_indireto['PROBLEMAS JURÍDICOS'].mean()\n",
    "df_media_indireto.loc[0, \"NÚMERO DE CA\"] = df_indireto['NÚMERO DE CA'].mean()\n",
    "df_media_indireto.loc[0, \"AGILIDADE\"] = df_indireto['AGILIDADE'].mean()\n",
    "df_media_indireto.loc[0, \"FOCO PARA POUCOS FUNCIONÁRIOS\"] = df_indireto['FOCO PARA POUCOS FUNCIONÁRIOS'].mean()\n",
    "df_media_indireto.loc[0, df_media_indireto.columns[0]] = \"Indireto\""
   ]
  },
  {
   "cell_type": "code",
   "execution_count": 97,
   "metadata": {},
   "outputs": [
    {
     "data": {
      "text/html": [
       "<div>\n",
       "<style scoped>\n",
       "    .dataframe tbody tr th:only-of-type {\n",
       "        vertical-align: middle;\n",
       "    }\n",
       "\n",
       "    .dataframe tbody tr th {\n",
       "        vertical-align: top;\n",
       "    }\n",
       "\n",
       "    .dataframe thead th {\n",
       "        text-align: right;\n",
       "    }\n",
       "</style>\n",
       "<table border=\"1\" class=\"dataframe\">\n",
       "  <thead>\n",
       "    <tr style=\"text-align: right;\">\n",
       "      <th></th>\n",
       "      <th>APPS</th>\n",
       "      <th>PREÇO</th>\n",
       "      <th>CONFUSÕES</th>\n",
       "      <th>ESTRESSE</th>\n",
       "      <th>PROBLEMAS JURÍDICOS</th>\n",
       "      <th>NÚMERO DE CA</th>\n",
       "      <th>AGILIDADE</th>\n",
       "      <th>FOCO PARA POUCOS FUNCIONÁRIOS</th>\n",
       "    </tr>\n",
       "  </thead>\n",
       "  <tbody>\n",
       "    <tr>\n",
       "      <th>0</th>\n",
       "      <td>Indireto</td>\n",
       "      <td>7.0</td>\n",
       "      <td>8.0</td>\n",
       "      <td>8.0</td>\n",
       "      <td>9.0</td>\n",
       "      <td>2.0</td>\n",
       "      <td>1.0</td>\n",
       "      <td>0.0</td>\n",
       "    </tr>\n",
       "  </tbody>\n",
       "</table>\n",
       "</div>"
      ],
      "text/plain": [
       "       APPS PREÇO CONFUSÕES ESTRESSE PROBLEMAS JURÍDICOS NÚMERO DE CA  \\\n",
       "0  Indireto   7.0       8.0      8.0                 9.0          2.0   \n",
       "\n",
       "  AGILIDADE FOCO PARA POUCOS FUNCIONÁRIOS  \n",
       "0       1.0                           0.0  "
      ]
     },
     "execution_count": 97,
     "metadata": {},
     "output_type": "execute_result"
    }
   ],
   "source": [
    "df_media_indireto"
   ]
  },
  {
   "cell_type": "code",
   "execution_count": 98,
   "metadata": {},
   "outputs": [
    {
     "data": {
      "text/html": [
       "<div>\n",
       "<style scoped>\n",
       "    .dataframe tbody tr th:only-of-type {\n",
       "        vertical-align: middle;\n",
       "    }\n",
       "\n",
       "    .dataframe tbody tr th {\n",
       "        vertical-align: top;\n",
       "    }\n",
       "\n",
       "    .dataframe thead th {\n",
       "        text-align: right;\n",
       "    }\n",
       "</style>\n",
       "<table border=\"1\" class=\"dataframe\">\n",
       "  <thead>\n",
       "    <tr style=\"text-align: right;\">\n",
       "      <th></th>\n",
       "      <th>APPS</th>\n",
       "      <th>PREÇO</th>\n",
       "      <th>CONFUSÕES</th>\n",
       "      <th>ESTRESSE</th>\n",
       "      <th>PROBLEMAS JURÍDICOS</th>\n",
       "      <th>NÚMERO DE CA</th>\n",
       "      <th>AGILIDADE</th>\n",
       "      <th>FOCO PARA POUCOS FUNCIONÁRIOS</th>\n",
       "    </tr>\n",
       "  </thead>\n",
       "  <tbody>\n",
       "    <tr>\n",
       "      <th>0</th>\n",
       "      <td>Direto</td>\n",
       "      <td>7.0</td>\n",
       "      <td>3.0</td>\n",
       "      <td>6.0</td>\n",
       "      <td>4.0</td>\n",
       "      <td>5.0</td>\n",
       "      <td>5.0</td>\n",
       "      <td>2.5</td>\n",
       "    </tr>\n",
       "  </tbody>\n",
       "</table>\n",
       "</div>"
      ],
      "text/plain": [
       "     APPS PREÇO CONFUSÕES ESTRESSE PROBLEMAS JURÍDICOS NÚMERO DE CA AGILIDADE  \\\n",
       "0  Direto   7.0       3.0      6.0                 4.0          5.0       5.0   \n",
       "\n",
       "  FOCO PARA POUCOS FUNCIONÁRIOS  \n",
       "0                           2.5  "
      ]
     },
     "execution_count": 98,
     "metadata": {},
     "output_type": "execute_result"
    }
   ],
   "source": [
    "df_media_direto.loc[0, df.columns[0]] = \"Direto\"\n",
    "df_media_direto"
   ]
  },
  {
   "cell_type": "code",
   "execution_count": 99,
   "metadata": {},
   "outputs": [
    {
     "data": {
      "text/html": [
       "<div>\n",
       "<style scoped>\n",
       "    .dataframe tbody tr th:only-of-type {\n",
       "        vertical-align: middle;\n",
       "    }\n",
       "\n",
       "    .dataframe tbody tr th {\n",
       "        vertical-align: top;\n",
       "    }\n",
       "\n",
       "    .dataframe thead th {\n",
       "        text-align: right;\n",
       "    }\n",
       "</style>\n",
       "<table border=\"1\" class=\"dataframe\">\n",
       "  <thead>\n",
       "    <tr style=\"text-align: right;\">\n",
       "      <th></th>\n",
       "      <th>APPS</th>\n",
       "      <th>PREÇO</th>\n",
       "      <th>CONFUSÕES</th>\n",
       "      <th>ESTRESSE</th>\n",
       "      <th>PROBLEMAS JURÍDICOS</th>\n",
       "      <th>NÚMERO DE CA</th>\n",
       "      <th>AGILIDADE</th>\n",
       "      <th>FOCO PARA POUCOS FUNCIONÁRIOS</th>\n",
       "    </tr>\n",
       "  </thead>\n",
       "  <tbody>\n",
       "    <tr>\n",
       "      <th>0</th>\n",
       "      <td>EXCEL</td>\n",
       "      <td>10</td>\n",
       "      <td>10</td>\n",
       "      <td>10</td>\n",
       "      <td>10</td>\n",
       "      <td>2</td>\n",
       "      <td>0</td>\n",
       "      <td>0</td>\n",
       "    </tr>\n",
       "    <tr>\n",
       "      <th>1</th>\n",
       "      <td>LIVRO COMUM</td>\n",
       "      <td>4</td>\n",
       "      <td>6</td>\n",
       "      <td>6</td>\n",
       "      <td>8</td>\n",
       "      <td>2</td>\n",
       "      <td>2</td>\n",
       "      <td>0</td>\n",
       "    </tr>\n",
       "  </tbody>\n",
       "</table>\n",
       "</div>"
      ],
      "text/plain": [
       "          APPS  PREÇO  CONFUSÕES  ESTRESSE  PROBLEMAS JURÍDICOS  NÚMERO DE CA  \\\n",
       "0        EXCEL     10         10        10                   10             2   \n",
       "1  LIVRO COMUM      4          6         6                    8             2   \n",
       "\n",
       "   AGILIDADE  FOCO PARA POUCOS FUNCIONÁRIOS  \n",
       "0          0                              0  \n",
       "1          2                              0  "
      ]
     },
     "execution_count": 99,
     "metadata": {},
     "output_type": "execute_result"
    }
   ],
   "source": [
    "df_indireto"
   ]
  },
  {
   "cell_type": "code",
   "execution_count": 100,
   "metadata": {},
   "outputs": [
    {
     "data": {
      "text/html": [
       "<div>\n",
       "<style scoped>\n",
       "    .dataframe tbody tr th:only-of-type {\n",
       "        vertical-align: middle;\n",
       "    }\n",
       "\n",
       "    .dataframe tbody tr th {\n",
       "        vertical-align: top;\n",
       "    }\n",
       "\n",
       "    .dataframe thead th {\n",
       "        text-align: right;\n",
       "    }\n",
       "</style>\n",
       "<table border=\"1\" class=\"dataframe\">\n",
       "  <thead>\n",
       "    <tr style=\"text-align: right;\">\n",
       "      <th></th>\n",
       "      <th>APPS</th>\n",
       "      <th>PREÇO</th>\n",
       "      <th>CONFUSÕES</th>\n",
       "      <th>ESTRESSE</th>\n",
       "      <th>PROBLEMAS JURÍDICOS</th>\n",
       "      <th>NÚMERO DE CA</th>\n",
       "      <th>AGILIDADE</th>\n",
       "      <th>FOCO PARA POUCOS FUNCIONÁRIOS</th>\n",
       "    </tr>\n",
       "  </thead>\n",
       "  <tbody>\n",
       "    <tr>\n",
       "      <th>0</th>\n",
       "      <td>Direto</td>\n",
       "      <td>7.0</td>\n",
       "      <td>3.0</td>\n",
       "      <td>6.0</td>\n",
       "      <td>4.0</td>\n",
       "      <td>5.0</td>\n",
       "      <td>5.0</td>\n",
       "      <td>2.5</td>\n",
       "    </tr>\n",
       "    <tr>\n",
       "      <th>0</th>\n",
       "      <td>Indireto</td>\n",
       "      <td>7.0</td>\n",
       "      <td>8.0</td>\n",
       "      <td>8.0</td>\n",
       "      <td>9.0</td>\n",
       "      <td>2.0</td>\n",
       "      <td>1.0</td>\n",
       "      <td>0.0</td>\n",
       "    </tr>\n",
       "    <tr>\n",
       "      <th>4</th>\n",
       "      <td>NOSSO APP</td>\n",
       "      <td>0</td>\n",
       "      <td>0</td>\n",
       "      <td>2</td>\n",
       "      <td>2</td>\n",
       "      <td>7</td>\n",
       "      <td>7</td>\n",
       "      <td>10</td>\n",
       "    </tr>\n",
       "  </tbody>\n",
       "</table>\n",
       "</div>"
      ],
      "text/plain": [
       "        APPS PREÇO CONFUSÕES ESTRESSE PROBLEMAS JURÍDICOS NÚMERO DE CA  \\\n",
       "0     Direto   7.0       3.0      6.0                 4.0          5.0   \n",
       "0   Indireto   7.0       8.0      8.0                 9.0          2.0   \n",
       "4  NOSSO APP     0         0        2                   2            7   \n",
       "\n",
       "  AGILIDADE FOCO PARA POUCOS FUNCIONÁRIOS  \n",
       "0       5.0                           2.5  \n",
       "0       1.0                           0.0  \n",
       "4         7                            10  "
      ]
     },
     "execution_count": 100,
     "metadata": {},
     "output_type": "execute_result"
    }
   ],
   "source": [
    "# quero unir 2 dataframe\n",
    "df_new = pd.concat([df_media_direto, df_media_indireto, df[(df['APPS'] == 'NOSSO APP' )]], axis=0)\n",
    "df_new"
   ]
  },
  {
   "cell_type": "code",
   "execution_count": 101,
   "metadata": {},
   "outputs": [
    {
     "data": {
      "image/png": "[encoded data removed]",
      "text/plain": [
       "<Figure size 2000x800 with 1 Axes>"
      ]
     },
     "metadata": {},
     "output_type": "display_data"
    }
   ],
   "source": [
    "# Selecionando os aplicativos como índice\n",
    "df_new.set_index('APPS', inplace=True)\n",
    "\n",
    "# Plotando o gráfico\n",
    "fig, ax = plt.subplots(figsize=(20, 8))\n",
    "\n",
    "for app in df_new.index:\n",
    "    ax.plot(df_new.columns, df_new.loc[app], marker='o', label=app)\n",
    "\n",
    "ax.set_title('Gráfico de Linha para Cada APPS')\n",
    "ax.set_xlabel('Colunas')\n",
    "ax.set_ylabel('Valores')\n",
    "ax.set_xticks(df.columns)\n",
    "ax.legend(title='APPS')\n",
    "ax.grid(True)\n",
    "plt.xticks()\n",
    "plt.tight_layout()\n",
    "\n"
   ]
  }
 ],
 "metadata": {
  "kernelspec": {
   "display_name": "Python 3",
   "language": "python",
   "name": "python3"
  },
  "language_info": {
   "codemirror_mode": {
    "name": "ipython",
    "version": 3
   },
   "file_extension": ".py",
   "mimetype": "text/x-python",
   "name": "python",
   "nbconvert_exporter": "python",
   "pygments_lexer": "ipython3",
   "version": "3.8.10"
  },
  "orig_nbformat": 4
 },
 "nbformat": 4,
 "nbformat_minor": 2
}
